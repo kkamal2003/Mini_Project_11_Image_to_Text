{
  "nbformat": 4,
  "nbformat_minor": 0,
  "metadata": {
    "colab": {
      "provenance": [],
      "authorship_tag": "ABX9TyPr9du5/ZbUHtZytwTkvj80",
      "include_colab_link": true
    },
    "kernelspec": {
      "name": "python3",
      "display_name": "Python 3"
    },
    "language_info": {
      "name": "python"
    }
  },
  "cells": [
    {
      "cell_type": "markdown",
      "metadata": {
        "id": "view-in-github",
        "colab_type": "text"
      },
      "source": [
        "<a href=\"https://colab.research.google.com/github/kkamal2003/Mini_Project_11_Image_to_Text/blob/main/Mini_Project_11_Image_to_Text_(OCR).ipynb\" target=\"_parent\"><img src=\"https://colab.research.google.com/assets/colab-badge.svg\" alt=\"Open In Colab\"/></a>"
      ]
    },
    {
      "cell_type": "code",
      "execution_count": null,
      "metadata": {
        "colab": {
          "base_uri": "https://localhost:8080/"
        },
        "id": "e5Fn3GBDnyvq",
        "outputId": "b4b1c024-4723-4eee-cd81-1393014dd0e9"
      },
      "outputs": [
        {
          "output_type": "stream",
          "name": "stdout",
          "text": [
            "Reading package lists... Done\n",
            "Building dependency tree       \n",
            "Reading state information... Done\n",
            "tesseract-ocr is already the newest version (4.1.1-2build2).\n",
            "0 upgraded, 0 newly installed, 0 to remove and 38 not upgraded.\n",
            "Looking in indexes: https://pypi.org/simple, https://us-python.pkg.dev/colab-wheels/public/simple/\n",
            "Requirement already satisfied: pytesseract in /usr/local/lib/python3.10/dist-packages (0.3.10)\n",
            "Requirement already satisfied: packaging>=21.3 in /usr/local/lib/python3.10/dist-packages (from pytesseract) (23.1)\n",
            "Requirement already satisfied: Pillow>=8.0.0 in /usr/local/lib/python3.10/dist-packages (from pytesseract) (9.0.0)\n",
            "Looking in indexes: https://pypi.org/simple, https://us-python.pkg.dev/colab-wheels/public/simple/\n",
            "Requirement already satisfied: Pillow==9.0.0 in /usr/local/lib/python3.10/dist-packages (9.0.0)\n"
          ]
        }
      ],
      "source": [
        "!sudo apt install tesseract-ocr\n",
        "!pip install pytesseract\n",
        "!pip install Pillow==9.0.0"
      ]
    },
    {
      "cell_type": "code",
      "source": [
        "import pytesseract  \n",
        "from PIL import Image \n",
        "#import pyttsx3\n",
        "#from googletrans import Translator"
      ],
      "metadata": {
        "id": "VPTArGgln-4y"
      },
      "execution_count": null,
      "outputs": []
    },
    {
      "cell_type": "code",
      "source": [
        "img = Image.open('/content/Picture1.png')\n",
        "print(img)"
      ],
      "metadata": {
        "id": "x3L35gUYoA4o",
        "colab": {
          "base_uri": "https://localhost:8080/"
        },
        "outputId": "d02ec04a-324c-40a8-c037-f5789e5f56a0"
      },
      "execution_count": null,
      "outputs": [
        {
          "output_type": "stream",
          "name": "stdout",
          "text": [
            "<PIL.PngImagePlugin.PngImageFile image mode=RGBA size=719x422 at 0x7EFE206E7010>\n"
          ]
        }
      ]
    },
    {
      "cell_type": "code",
      "source": [
        "result = pytesseract.image_to_string(Image.open('/content/Picture1.png'))\n",
        "print(result)\n",
        "fp = open(\"result.txt\",'w');\n",
        "fp.write(result)\n",
        "fp.close();"
      ],
      "metadata": {
        "id": "S2zo-eXNoEKS",
        "colab": {
          "base_uri": "https://localhost:8080/"
        },
        "outputId": "c9942674-2d27-459a-d93f-2bdb8cce6166"
      },
      "execution_count": null,
      "outputs": [
        {
          "output_type": "stream",
          "name": "stdout",
          "text": [
            "Their drawbacks\n",
            "\n",
            "Despise being favored in the past, these 2 activation functions are\n",
            "less used today, especially when it comes to training deep neural\n",
            "networks with a large number of layers.\n",
            "\n",
            "» The biggest problem is called Vanishing Gradient. That is, for a\n",
            "deep network with many layers, when we update the weights using\n",
            "backpropagation, the gradients transferred back to the earlier layers\n",
            "get contracted exponentially. At some points, the updating gradients\n",
            "almost vanish (become so close to 0), making the network unable to\n",
            "learn any more.\n",
            "\f\n"
          ]
        }
      ]
    }
  ]
}